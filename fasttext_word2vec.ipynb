{
  "nbformat": 4,
  "nbformat_minor": 0,
  "metadata": {
    "colab": {
      "provenance": []
    },
    "kernelspec": {
      "name": "python3",
      "display_name": "Python 3"
    },
    "language_info": {
      "name": "python"
    }
  },
  "cells": [
    {
      "cell_type": "code",
      "source": [
        "#fasttext"
      ],
      "metadata": {
        "id": "w5CYlGIcMXJY"
      },
      "execution_count": null,
      "outputs": []
    },
    {
      "cell_type": "code",
      "execution_count": 1,
      "metadata": {
        "colab": {
          "base_uri": "https://localhost:8080/"
        },
        "id": "XgOEyLOcHNhJ",
        "outputId": "e77dd78b-8fd9-43cb-f30d-08eb2168702f"
      },
      "outputs": [
        {
          "output_type": "stream",
          "name": "stdout",
          "text": [
            "Looking in indexes: https://pypi.org/simple, https://us-python.pkg.dev/colab-wheels/public/simple/\n",
            "Collecting fasttext\n",
            "  Downloading fasttext-0.9.2.tar.gz (68 kB)\n",
            "\u001b[2K     \u001b[90m━━━━━━━━━━━━━━━━━━━━━━━━━━━━━━━━━━━━━━━━\u001b[0m \u001b[32m68.8/68.8 kB\u001b[0m \u001b[31m2.4 MB/s\u001b[0m eta \u001b[36m0:00:00\u001b[0m\n",
            "\u001b[?25h  Preparing metadata (setup.py) ... \u001b[?25l\u001b[?25hdone\n",
            "Collecting pybind11>=2.2 (from fasttext)\n",
            "  Using cached pybind11-2.10.4-py3-none-any.whl (222 kB)\n",
            "Requirement already satisfied: setuptools>=0.7.0 in /usr/local/lib/python3.10/dist-packages (from fasttext) (67.7.2)\n",
            "Requirement already satisfied: numpy in /usr/local/lib/python3.10/dist-packages (from fasttext) (1.22.4)\n",
            "Building wheels for collected packages: fasttext\n",
            "  Building wheel for fasttext (setup.py) ... \u001b[?25l\u001b[?25hdone\n",
            "  Created wheel for fasttext: filename=fasttext-0.9.2-cp310-cp310-linux_x86_64.whl size=4393194 sha256=66ee97439e31e807ef87ab117fb64039c288cd34ab284cdd6c703ab6734d0313\n",
            "  Stored in directory: /root/.cache/pip/wheels/a5/13/75/f811c84a8ab36eedbaef977a6a58a98990e8e0f1967f98f394\n",
            "Successfully built fasttext\n",
            "Installing collected packages: pybind11, fasttext\n",
            "Successfully installed fasttext-0.9.2 pybind11-2.10.4\n"
          ]
        }
      ],
      "source": [
        "pip install fasttext"
      ]
    },
    {
      "cell_type": "code",
      "source": [
        "#veri setini hazırlama"
      ],
      "metadata": {
        "id": "HmNxzZ1dIGlB"
      },
      "execution_count": null,
      "outputs": []
    },
    {
      "cell_type": "code",
      "source": [
        "import pandas as pd\n",
        "from sklearn.model_selection import train_test_split\n",
        "\n",
        "# Excel dosyasını yükleme\n",
        "excel_file = '/content/prepliIrkcilik.xlsx'\n",
        "sheet_name = 'Sheet1'  # Verilerin bulunduğu sayfa adı\n",
        "\n",
        "# Excel dosyasını DataFrame olarak okuma\n",
        "df = pd.read_excel(excel_file, sheet_name=sheet_name)\n",
        "\n",
        "# Sütunları seçme\n",
        "sentences = df['A'].tolist()\n",
        "labels = df['B'].tolist()\n",
        "\n",
        "# Train ve test veri setlerini oluşturma\n",
        "train_sentences, test_sentences, train_labels, test_labels = train_test_split(sentences, labels, test_size=0.2, random_state=42)\n",
        "\n",
        "# Train veri setini oluşturulan dosyaya yazma\n",
        "with open('train.txt', 'w', encoding='utf-8') as train_file:\n",
        "    for sentence, label in zip(train_sentences, train_labels):\n",
        "        train_file.write('__label__{} {}\\n'.format(label, sentence))\n",
        "\n",
        "# Test veri setini oluşturulan dosyaya yazma\n",
        "with open('test.txt', 'w', encoding='utf-8') as test_file:\n",
        "    for sentence, label in zip(test_sentences, test_labels):\n",
        "        test_file.write('__label__{} {}\\n'.format(label, sentence))"
      ],
      "metadata": {
        "id": "kpcHy1cXITTe"
      },
      "execution_count": 2,
      "outputs": []
    },
    {
      "cell_type": "code",
      "source": [
        "train_data_path = '/content/train.txt'\n",
        "\n",
        "# Txt dosyasını okuma\n",
        "with open(train_data_path, 'r', encoding='utf-8') as file:\n",
        "    data = file.readlines()\n",
        "\n",
        "# Başlangıçtaki 5 satırı görüntüleme\n",
        "for line in data[:5]:\n",
        "    print(line)"
      ],
      "metadata": {
        "colab": {
          "base_uri": "https://localhost:8080/"
        },
        "id": "VgMcLiBQJeiC",
        "outputId": "0808f933-9427-4d8b-d4e8-13d68dac38a9"
      },
      "execution_count": 5,
      "outputs": [
        {
          "output_type": "stream",
          "name": "stdout",
          "text": [
            "__label__1 allahın mescit tevbe sûresinden\n",
            "\n",
            "__label__1 ingilterede karşıt gösteri ardından bıçakla 3 kişi hayat kaybet aracılık\n",
            "\n",
            "__label__0 ben yaşam alan kısıtlayandevletten al gerek hizmet öncelik öteleyenkendi vatan ben parya durum düş bir muhacirensar akraba ilişki böyle bir yönetim anlayış kabul et et ad\n",
            "\n",
            "__label__0 fransada islamofobiye tepki büyü fransada devlet islamofobisi ırk var\n",
            "\n",
            "__label__0 fransa milli takım ırk skandal futbol tepki yağ\n",
            "\n"
          ]
        }
      ]
    },
    {
      "cell_type": "code",
      "source": [
        "train_data_path = '/content/test.txt'\n",
        "\n",
        "# Txt dosyasını okuma\n",
        "with open(train_data_path, 'r', encoding='utf-8') as file:\n",
        "    data = file.readlines()\n",
        "\n",
        "# Başlangıçtaki 5 satırı görüntüleme\n",
        "for line in data[:5]:\n",
        "    print(line)"
      ],
      "metadata": {
        "colab": {
          "base_uri": "https://localhost:8080/"
        },
        "id": "KDI4W0-mLvVd",
        "outputId": "ed70151a-9c1f-4e4e-9aab-5e2ace956941"
      },
      "execution_count": 11,
      "outputs": [
        {
          "output_type": "stream",
          "name": "stdout",
          "text": [
            "__label__0 toplum huzur boz icinde birbiri saygi duyark yasamalarina ket vurmaulkede cikarma kucucuk cocuklr fark millet olduklari icin zihniyet yuzundn evlerindn cikmaya 0korkar olmu\n",
            "\n",
            "__label__0 mülakat seç memur ol toplum örnek ol örnek ol yetiş kadar aday ara seç eşşek değer ver kendi yarış at zannet torpil memur seç hal hareket kaçınılmaz\n",
            "\n",
            "__label__0 sen allahın gurban allahın mutlu türk\n",
            "\n",
            "__label__0 irkçiliğin gölge dünya yak hazirlanirken\n",
            "\n",
            "__label__0 çocuk ırk din bil insan ayrım yap ölçüt sevgi nefret büyük öğren inşallah sözde öğretmen müsvetteleri kendi iç kürt nefret çocuk aşıla\n",
            "\n"
          ]
        }
      ]
    },
    {
      "cell_type": "code",
      "source": [
        "import fasttext\n",
        "\n",
        "# Eğitim veri setini yükleme\n",
        "train_data_path = '/content/train.txt'\n",
        "\n",
        "# Modeli eğitme\n",
        "model = fasttext.train_supervised(input=train_data_path)\n",
        "\n",
        "# Test veri setini yükleme\n",
        "test_data_path = '/content/test.txt'\n",
        "\n",
        "# Modeli değerlendirme\n",
        "result = model.test(test_data_path)\n",
        "\n",
        "# Sonuçları görüntüleme\n",
        "print('Doğruluk oranı: {:.2f}%'.format(result[1] * 100))"
      ],
      "metadata": {
        "colab": {
          "base_uri": "https://localhost:8080/"
        },
        "id": "-7cFF6DFHWKk",
        "outputId": "e5c1087e-60f2-4ff7-a700-0f4433b6363a"
      },
      "execution_count": 10,
      "outputs": [
        {
          "output_type": "stream",
          "name": "stdout",
          "text": [
            "Doğruluk oranı: 64.94%\n"
          ]
        }
      ]
    },
    {
      "cell_type": "code",
      "source": [
        "#word2vec"
      ],
      "metadata": {
        "id": "xYYvJTJhMUyl"
      },
      "execution_count": null,
      "outputs": []
    },
    {
      "cell_type": "code",
      "source": [
        "pip install gensim"
      ],
      "metadata": {
        "colab": {
          "base_uri": "https://localhost:8080/"
        },
        "id": "veTVdrscLV4P",
        "outputId": "237f539f-137e-42ae-f320-0019cef60425"
      },
      "execution_count": 12,
      "outputs": [
        {
          "output_type": "stream",
          "name": "stdout",
          "text": [
            "Looking in indexes: https://pypi.org/simple, https://us-python.pkg.dev/colab-wheels/public/simple/\n",
            "Requirement already satisfied: gensim in /usr/local/lib/python3.10/dist-packages (4.3.1)\n",
            "Requirement already satisfied: numpy>=1.18.5 in /usr/local/lib/python3.10/dist-packages (from gensim) (1.22.4)\n",
            "Requirement already satisfied: scipy>=1.7.0 in /usr/local/lib/python3.10/dist-packages (from gensim) (1.10.1)\n",
            "Requirement already satisfied: smart-open>=1.8.1 in /usr/local/lib/python3.10/dist-packages (from gensim) (6.3.0)\n"
          ]
        }
      ]
    },
    {
      "cell_type": "code",
      "source": [
        "import pandas as pd\n",
        "from gensim.models import Word2Vec\n",
        "from sklearn.decomposition import PCA\n",
        "import matplotlib.pyplot as plt\n",
        "\n",
        "# Excel dosyasını okuma\n",
        "data = pd.read_excel('/content/prepliIrkcilik.xlsx')\n",
        "\n",
        "# Cümleleri ve etiketleri ayrı listelere ayırma\n",
        "sentences = data['A'].tolist()\n",
        "labels = data['B'].tolist()\n",
        "\n",
        "# Word2Vec modelini eğitme\n",
        "model = Word2Vec(sentences, min_count=1)\n",
        "\n",
        "# Kelime vektörlerini elde etme\n",
        "vectors = model.wv\n",
        "\n",
        "# Örnek kelimenin vektörünü almak\n",
        "#word = \"örnek\"\n",
        "#word_vector = vectors[word]\n",
        "\n",
        "# Vektör boyutunu kontrol etme\n",
        "vector_size = model.vector_size\n",
        "\n",
        "# Tüm kelime vektörlerini PCA ile indirgeme\n",
        "pca = PCA(n_components=2)\n",
        "vectors_2d = pca.fit_transform(vectors.vectors)\n",
        "\n",
        "# Görselleştirme\n",
        "words = list(vectors.key_to_index.keys())\n",
        "x = vectors_2d[:, 0]\n",
        "y = vectors_2d[:, 1]\n",
        "\n",
        "plt.figure(figsize=(10, 10))\n",
        "plt.scatter(x, y)\n",
        "\n",
        "for i, word in enumerate(words):\n",
        "    plt.annotate(word, (x[i], y[i]))\n",
        "\n",
        "plt.show()"
      ],
      "metadata": {
        "colab": {
          "base_uri": "https://localhost:8080/",
          "height": 867
        },
        "id": "2uQC5ljgMUCK",
        "outputId": "d2ba649a-9cda-43a2-c6ef-eec4d8e4408a"
      },
      "execution_count": 14,
      "outputs": [
        {
          "output_type": "stream",
          "name": "stderr",
          "text": [
            "WARNING:gensim.models.word2vec:Each 'sentences' item should be a list of words (usually unicode strings). First item here is instead plain <class 'str'>.\n"
          ]
        },
        {
          "output_type": "display_data",
          "data": {
            "text/plain": [
              "<Figure size 1000x1000 with 1 Axes>"
            ],
            "image/png": "[encoded data removed]"
          },
          "metadata": {}
        }
      ]
    },
    {
      "cell_type": "code",
      "source": [],
      "metadata": {
        "id": "s3M0cl_sM80u"
      },
      "execution_count": null,
      "outputs": []
    }
  ]
}