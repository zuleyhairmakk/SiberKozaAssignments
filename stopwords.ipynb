{
  "nbformat": 4,
  "nbformat_minor": 0,
  "metadata": {
    "colab": {
      "provenance": []
    },
    "kernelspec": {
      "name": "python3",
      "display_name": "Python 3"
    },
    "language_info": {
      "name": "python"
    }
  },
  "cells": [
    {
      "cell_type": "code",
      "execution_count": null,
      "metadata": {
        "colab": {
          "base_uri": "https://localhost:8080/"
        },
        "id": "0M0iYloY9LFC",
        "outputId": "17d85976-6c18-4356-f889-c87f4e2a4691"
      },
      "outputs": [
        {
          "output_type": "stream",
          "name": "stderr",
          "text": [
            "[nltk_data] Downloading package stopwords to /root/nltk_data...\n",
            "[nltk_data]   Package stopwords is already up-to-date!\n"
          ]
        }
      ],
      "source": [
        "import openpyxl\n",
        "import string\n",
        "import nltk\n",
        "\n",
        "# Download the stopwords list from NLTK\n",
        "nltk.download('stopwords')\n",
        "\n",
        "# Open the workbook\n",
        "wb = openpyxl.load_workbook('/content/irkcilikwithstemmingvelowercasevepuncveurlvs.xlsx')\n",
        "\n",
        "# Select the sheet\n",
        "sheet = wb['Sheet1']\n",
        "\n",
        "# Get the English stopwords list\n",
        "stopwords = nltk.corpus.stopwords.words('turkish')\n",
        "\n",
        "# Loop through the rows of the sheet\n",
        "for row in sheet.iter_rows(min_row=2, max_row=sheet.max_row, min_col=1, max_col=2):\n",
        "    # Read the tweet text and result from the cells\n",
        "    tweet_text = row[0].value\n",
        "    result = row[1].value\n",
        "\n",
        "    # Remove stopwords and convert to lowercase\n",
        "    if isinstance(tweet_text, str):\n",
        "        tweet_text_clean = [word for word in tweet_text.split() if word.lower() not in stopwords]\n",
        "        tweet_text_clean = ' '.join(tweet_text_clean).lower()\n",
        "    else:\n",
        "        tweet_text_clean = tweet_text\n",
        "\n",
        "    if isinstance(result, str):\n",
        "        result_clean = [word for word in result.split() if word.lower() not in stopwords]\n",
        "        result_clean = ' '.join(result_clean).lower()\n",
        "    else:\n",
        "        result_clean = result\n",
        "\n",
        "    # Write the cleaned text and result back to the cells\n",
        "    row[0].value = tweet_text_clean\n",
        "    row[1].value = result_clean\n",
        "\n",
        "# Save the workbook to a different file\n",
        "wb.save('/content/irkcilikwithstemmingvelowercasevepuncveurlvsvestopwords.xlsx')"
      ]
    }
  ]
}