{
  "nbformat": 4,
  "nbformat_minor": 0,
  "metadata": {
    "colab": {
      "provenance": []
    },
    "kernelspec": {
      "name": "python3",
      "display_name": "Python 3"
    },
    "language_info": {
      "name": "python"
    }
  },
  "cells": [
    {
      "cell_type": "code",
      "execution_count": null,
      "metadata": {
        "id": "0sZLRcjM8STR"
      },
      "outputs": [],
      "source": [
        "import pandas as pd\n",
        "import re\n",
        "\n",
        "\n",
        "# Veri setini Excel'den yükle\n",
        "df = pd.read_excel('/content/irkcilikwithstemmingvelowercasevepunc.xlsx')\n",
        "\n",
        "# Tweet metinlerini lowercase yapma\n",
        "df['Processed Sentence'] = df['Processed Sentence'].str.lower()\n",
        "\n",
        "# URL'leri kaldırma\n",
        "df['Processed Sentence'] = df['Processed Sentence'].apply(lambda x: re.sub(r'http\\S+|www\\S+', '', x))\n",
        "\n",
        "# Hashtag'leri kaldırma\n",
        "df['Processed Sentence'] = df['Processed Sentence'].apply(lambda x: re.sub(r'#\\w+', '', x))\n",
        "\n",
        "# Mention'ları kaldırma\n",
        "df['Processed Sentence'] = df['Processed Sentence'].apply(lambda x: re.sub(r'@\\w+', '', x))\n",
        "\n",
        "\n",
        "\n",
        "# Sonuçları yeni bir Excel dosyasına kaydetme\n",
        "df.to_excel('/content/irkcilikwithstemmingvelowercasevepuncveurlvs.xlsx', index=False)"
      ]
    }
  ]
}