{
  "nbformat": 4,
  "nbformat_minor": 0,
  "metadata": {
    "colab": {
      "provenance": []
    },
    "kernelspec": {
      "name": "python3",
      "display_name": "Python 3"
    },
    "language_info": {
      "name": "python"
    }
  },
  "cells": [
    {
      "cell_type": "code",
      "execution_count": null,
      "metadata": {
        "id": "DcGWB_Uol8YY"
      },
      "outputs": [],
      "source": [
        "import pandas as pd\n",
        "\n",
        "# Veri setini okuma\n",
        "df = pd.read_excel(\"/content/zuli003.xlsx\")\n",
        "\n",
        "# Kelime sözlüğünü oluşturma\n",
        "corpus = df['A'].str.cat(sep=' ')\n",
        "word_list = corpus.split()\n",
        "word_set = set(word_list)\n",
        "word_dict = {word: index for index, word in enumerate(word_set)}\n",
        "words = list(word_set)\n",
        "\n",
        "# Bag of Words temsilini oluşturma\n",
        "bow_representation = pd.DataFrame(columns=words)\n",
        "\n",
        "for i, text in enumerate(df['A']):\n",
        "    word_count = {word: 0 for word in words}\n",
        "    for word in text.split():\n",
        "        word_count[word] += 1\n",
        "    bow_representation.loc[i] = word_count\n",
        "\n",
        "# Etiketleri saklama\n",
        "bow_representation['etiket'] = df['B']\n",
        "\n",
        "#bow_representation.to_excel(\"bow_representation.xlsx\", index=False)"
      ]
    },
    {
      "cell_type": "code",
      "source": [
        "print(bow_representation.head())"
      ],
      "metadata": {
        "colab": {
          "base_uri": "https://localhost:8080/"
        },
        "id": "trWotdw9mvyf",
        "outputId": "902bc10f-aafb-45f2-d9e1-c9aee03a530b"
      },
      "execution_count": null,
      "outputs": [
        {
          "output_type": "stream",
          "name": "stdout",
          "text": [
            "   değil  avrupa  50  2022  arap  29  müdür  reddet  2  aile  ...  al  ulus  \\\n",
            "0      0       1   0     0     0   0      0       1  0     0  ...   0     0   \n",
            "1      0       0   0     0     0   0      0       0  0     0  ...   0     0   \n",
            "2      0       0   0     0     0   0      0       0  0     0  ...   0     0   \n",
            "3      0       0   0     1     0   0      0       0  0     0  ...   0     0   \n",
            "4      0       0   1     0     0   0      1       0  0     1  ...   0     0   \n",
            "\n",
            "   polis  göre  program  0000  öjenik  para  vatan  etiket  \n",
            "0      1     0        0     0       0     0      0       0  \n",
            "1      0     0        0     1       0     0      0       0  \n",
            "2      0     1        0     0       0     0      0       0  \n",
            "3      0     0        1     0       0     0      0       0  \n",
            "4      0     0        0     0       0     1      0       1  \n",
            "\n",
            "[5 rows x 92 columns]\n"
          ]
        }
      ]
    },
    {
      "cell_type": "code",
      "source": [
        "import numpy as np\n",
        "\n",
        "# Co-occurrence matrisini hesaplama\n",
        "co_occurrence_matrix = np.zeros((len(words), len(words)), dtype=int)\n",
        "\n",
        "for text in df['A']:\n",
        "    word_indices = [word_dict[word] for word in text.split() if word in word_dict]\n",
        "    for i in range(len(word_indices)):\n",
        "        for j in range(len(word_indices)):\n",
        "            co_occurrence_matrix[word_indices[i]][word_indices[j]] += 1\n",
        "\n",
        "# Co-occurrence matrisini kaydetme\n",
        "#np.savetxt(\"co_occurrence_matrix.csv\", co_occurrence_matrix, delimiter=\",\")\n",
        "\n",
        "print(co_occurrence_matrix)\n"
      ],
      "metadata": {
        "colab": {
          "base_uri": "https://localhost:8080/"
        },
        "id": "wUwi_nFGnLiS",
        "outputId": "9ed8748c-5930-4f97-99de-4f4e462209ae"
      },
      "execution_count": null,
      "outputs": [
        {
          "output_type": "stream",
          "name": "stdout",
          "text": [
            "[[1 0 0 ... 0 0 1]\n",
            " [0 1 0 ... 0 0 0]\n",
            " [0 0 1 ... 0 1 0]\n",
            " ...\n",
            " [0 0 0 ... 1 0 0]\n",
            " [0 0 1 ... 0 1 0]\n",
            " [1 0 0 ... 0 0 1]]\n"
          ]
        }
      ]
    },
    {
      "cell_type": "code",
      "source": [
        "from sklearn.feature_extraction.text import HashingVectorizer\n",
        "\n",
        "# Metinleri ve etiketleri ayırma\n",
        "texts = df['A']\n",
        "labels = df['B']\n",
        "\n",
        "# HashingVectorizer'ı oluşturma ve uygulama\n",
        "vectorizer = HashingVectorizer(n_features=1000)  # n_features, vektör boyutunu belirler\n",
        "hashed_features = vectorizer.transform(texts)\n",
        "\n",
        "# Elde edilen vektörleri bir DataFrame'e dönüştürme\n",
        "hashed_df = pd.DataFrame(hashed_features.toarray())\n",
        "\n",
        "# Etiketleri DataFrame'e ekleme\n",
        "hashed_df['etiket'] = labels\n",
        "\n",
        "# Sonucu kaydetme\n",
        "#hashed_df.to_csv(\"hashed_representation.csv\", index=False)\n",
        "print(hashed_df.head())"
      ],
      "metadata": {
        "colab": {
          "base_uri": "https://localhost:8080/"
        },
        "id": "hbx5KNDHzxtU",
        "outputId": "6f79e79f-ef32-4aa2-b45d-387ea55a2ec8"
      },
      "execution_count": null,
      "outputs": [
        {
          "output_type": "stream",
          "name": "stdout",
          "text": [
            "     0    1    2    3    4    5    6    7    8    9  ...  991  992  993  994  \\\n",
            "0  0.0  0.0  0.0  0.0  0.0  0.0  0.0  0.0  0.0  0.0  ...  0.0  0.0  0.0  0.0   \n",
            "1  0.0  0.0  0.0  0.0  0.0  0.0  0.0  0.0  0.0  0.0  ...  0.0  0.0  0.0  0.0   \n",
            "2  0.0  0.0  0.0  0.0  0.0  0.0  0.0  0.0  0.0  0.0  ...  0.0  0.0  0.0  0.0   \n",
            "3  0.0  0.0  0.0  0.0  0.0  0.0  0.0  0.0  0.0  0.0  ...  0.0  0.0  0.0  0.0   \n",
            "4  0.0  0.0  0.0  0.0  0.0  0.0  0.0  0.0  0.0  0.0  ...  0.0  0.0  0.0  0.0   \n",
            "\n",
            "   995  996  997       998  999  etiket  \n",
            "0  0.0  0.0  0.0  0.000000  0.0       0  \n",
            "1  0.0  0.0  0.0  0.000000  0.0       0  \n",
            "2  0.0  0.0  0.0  0.182574  0.0       0  \n",
            "3  0.0  0.0  0.0  0.000000  0.0       0  \n",
            "4  0.0  0.0  0.0  0.000000  0.0       1  \n",
            "\n",
            "[5 rows x 1001 columns]\n"
          ]
        }
      ]
    },
    {
      "cell_type": "code",
      "source": [
        "from sklearn.preprocessing import OneHotEncoder\n",
        "\n",
        "# Etiketleri ayırma\n",
        "labels = df['B']\n",
        "\n",
        "# OneHotEncoder'ı oluşturma ve uygulama\n",
        "encoder = OneHotEncoder()\n",
        "encoded_features = encoder.fit_transform(labels.values.reshape(-1, 1))\n",
        "\n",
        "# One-hot encoding sonuçlarını DataFrame'e dönüştürme\n",
        "encoded_df = pd.DataFrame(encoded_features.toarray(), columns=encoder.get_feature_names_out())\n",
        "\n",
        "# Sonucu görüntüleme\n",
        "print(encoded_df)"
      ],
      "metadata": {
        "colab": {
          "base_uri": "https://localhost:8080/"
        },
        "id": "Cw8c9XLg0nzj",
        "outputId": "795527bd-9dfa-42b0-9edc-19c6115ee1fa"
      },
      "execution_count": null,
      "outputs": [
        {
          "output_type": "stream",
          "name": "stdout",
          "text": [
            "   x0_0  x0_1\n",
            "0   1.0   0.0\n",
            "1   1.0   0.0\n",
            "2   1.0   0.0\n",
            "3   1.0   0.0\n",
            "4   0.0   1.0\n",
            "5   1.0   0.0\n",
            "6   1.0   0.0\n",
            "7   1.0   0.0\n",
            "8   1.0   0.0\n"
          ]
        }
      ]
    },
    {
      "cell_type": "code",
      "source": [
        "from sklearn.feature_extraction.text import TfidfVectorizer\n",
        "\n",
        "# Metinleri ayırma\n",
        "texts = df['A']\n",
        "\n",
        "# TF-IDF vektörleştiriciyi oluşturma ve uygulama\n",
        "vectorizer = TfidfVectorizer()\n",
        "tfidf_features = vectorizer.fit_transform(texts)\n",
        "\n",
        "# TF-IDF sonuçlarını DataFrame'e dönüştürme\n",
        "tfidf_df = pd.DataFrame(tfidf_features.toarray(), columns=vectorizer.get_feature_names_out())\n",
        "\n",
        "# Sonucu görüntüleme\n",
        "print(tfidf_df.head())"
      ],
      "metadata": {
        "colab": {
          "base_uri": "https://localhost:8080/"
        },
        "id": "kdmeb0MzF9UO",
        "outputId": "98bfa72a-7e73-415c-a31f-0d6a96b694e5"
      },
      "execution_count": null,
      "outputs": [
        {
          "output_type": "stream",
          "name": "stdout",
          "text": [
            "       0000  05000630        12  15001630      2022   29        50      aihm  \\\n",
            "0  0.000000  0.000000  0.000000       0.0  0.000000  0.0  0.000000  0.453831   \n",
            "1  0.355955  0.355955  0.000000       0.0  0.000000  0.0  0.000000  0.000000   \n",
            "2  0.000000  0.000000  0.188044       0.0  0.000000  0.0  0.000000  0.000000   \n",
            "3  0.000000  0.000000  0.000000       0.0  0.350951  0.0  0.000000  0.000000   \n",
            "4  0.000000  0.000000  0.000000       0.0  0.000000  0.0  0.323774  0.000000   \n",
            "\n",
            "       aile   al  ...  zannet  ziya    çelenk     çocuk  çık  öjenik  \\\n",
            "0  0.000000  0.0  ...     0.0   0.0  0.000000  0.000000  0.0     0.0   \n",
            "1  0.000000  0.0  ...     0.0   0.0  0.000000  0.000000  0.0     0.0   \n",
            "2  0.000000  0.0  ...     0.0   0.0  0.000000  0.564131  0.0     0.0   \n",
            "3  0.000000  0.0  ...     0.0   0.0  0.000000  0.000000  0.0     0.0   \n",
            "4  0.323774  0.0  ...     0.0   0.0  0.323774  0.000000  0.0     0.0   \n",
            "\n",
            "    öğrenci     öğret       ırk     şekil  \n",
            "0  0.000000  0.000000  0.147235  0.000000  \n",
            "1  0.000000  0.000000  0.230963  0.000000  \n",
            "2  0.000000  0.376087  0.000000  0.188044  \n",
            "3  0.000000  0.000000  0.000000  0.000000  \n",
            "4  0.323774  0.000000  0.000000  0.000000  \n",
            "\n",
            "[5 rows x 90 columns]\n"
          ]
        }
      ]
    },
    {
      "cell_type": "code",
      "source": [],
      "metadata": {
        "id": "frhepqwZGWNh"
      },
      "execution_count": null,
      "outputs": []
    }
  ]
}