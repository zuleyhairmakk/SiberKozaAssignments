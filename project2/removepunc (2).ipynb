{
  "nbformat": 4,
  "nbformat_minor": 0,
  "metadata": {
    "colab": {
      "provenance": []
    },
    "kernelspec": {
      "name": "python3",
      "display_name": "Python 3"
    },
    "language_info": {
      "name": "python"
    }
  },
  "cells": [
    {
      "cell_type": "code",
      "execution_count": null,
      "metadata": {
        "id": "OvhRp7027139"
      },
      "outputs": [],
      "source": [
        "import pandas as pd\n",
        "import string\n",
        "\n",
        "def remove_punctuation(text):\n",
        "    \"\"\"\n",
        "    Verilen metinden noktalama işaretlerini kaldırır.\n",
        "    \"\"\"\n",
        "    return text.translate(str.maketrans(\"\", \"\", string.punctuation))\n",
        "\n",
        "# Excel dosyasını oku\n",
        "df = pd.read_excel('/content/irkcilikwithstemmingvelowercase.xlsx')\n",
        "\n",
        "# Veri setindeki her hücre için noktalama işaretlerini kaldır\n",
        "df = df.applymap(lambda x: remove_punctuation(str(x)))\n",
        "\n",
        "# Güncellenmiş veri setini yeni bir Excel dosyasına yaz\n",
        "df.to_excel('/content/irkcilikwithstemmingvelowercasevepunc.xlsx', index=False)\n"
      ]
    }
  ]
}