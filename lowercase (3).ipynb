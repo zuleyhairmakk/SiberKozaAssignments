{
  "nbformat": 4,
  "nbformat_minor": 0,
  "metadata": {
    "colab": {
      "provenance": []
    },
    "kernelspec": {
      "name": "python3",
      "display_name": "Python 3"
    },
    "language_info": {
      "name": "python"
    }
  },
  "cells": [
    {
      "cell_type": "code",
      "execution_count": null,
      "metadata": {
        "id": "V0m65egV7YDX"
      },
      "outputs": [],
      "source": [
        "import openpyxl\n",
        "\n",
        "# Open the workbook\n",
        "wb = openpyxl.load_workbook('/content/irkcilikwithstemming.xlsx')\n",
        "\n",
        "# Select the sheet\n",
        "sheet = wb['Sheet1']\n",
        "\n",
        "# Loop through the rows of the sheet\n",
        "for row in sheet.iter_rows(min_row=2, max_row=sheet.max_row, min_col=1, max_col=2):\n",
        "    # Read the tweet text and result from the cells\n",
        "    tweet_text = row[0].value\n",
        "    result = row[1].value\n",
        "\n",
        "    # Convert the tweet text and result to lowercase\n",
        "    if isinstance(tweet_text, str):\n",
        "        tweet_text_lower = tweet_text.lower()\n",
        "    else:\n",
        "        tweet_text_lower = tweet_text\n",
        "\n",
        "    if isinstance(result, str):\n",
        "        result_lower = result.lower()\n",
        "    else:\n",
        "        result_lower = result\n",
        "\n",
        "    # Write the lowercase text and result back to the cells\n",
        "    row[0].value = tweet_text_lower\n",
        "    row[1].value = result_lower\n",
        "\n",
        "# Save the workbook to a different file\n",
        "wb.save('/content/irkcilikwithstemmingvelowercase.xlsx')"
      ]
    }
  ]
}